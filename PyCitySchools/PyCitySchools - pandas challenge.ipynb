{
 "cells": [
  {
   "cell_type": "code",
   "execution_count": 1,
   "metadata": {},
   "outputs": [],
   "source": [
    "#import pandas library\n",
    "import pandas as pd\n",
    "\n",
    "#Load CSV files\n",
    "schools_data_file = \"Resources/schools_complete.csv\"\n",
    "students_data_file = \"Resources/students_complete.csv\"\n",
    "\n",
    "#Read CSV files\n",
    "schools_data = pd.read_csv(schools_data_file)\n",
    "students_data = pd.read_csv(students_data_file)\n",
    "\n",
    "#Merge into single dataset\n",
    "combined_data_df = pd.merge(students_data, schools_data, how=\"left\", on=[\"school_name\", \"school_name\"])\n"
   ]
  },
  {
   "cell_type": "code",
   "execution_count": 2,
   "metadata": {},
   "outputs": [
    {
     "data": {
      "text/plain": [
       "Aaron Acosta     NaN\n",
       "Aaron Aguilar    NaN\n",
       "Aaron Anderson   NaN\n",
       "Aaron Atkinson   NaN\n",
       "Aaron Bailey     NaN\n",
       "                  ..\n",
       "reading_score    NaN\n",
       "school_name      NaN\n",
       "size             NaN\n",
       "student_name     NaN\n",
       "type             NaN\n",
       "Length: 32726, dtype: float64"
      ]
     },
     "execution_count": 2,
     "metadata": {},
     "output_type": "execute_result"
    }
   ],
   "source": [
    "total_schools = combined_data_df[\"school_name\"].value_counts()\n",
    "total_students = combined_data_df[\"student_name\"].value_counts()\n",
    "total_budget = combined_data_df[\"budget\"].sum()\n",
    "average_math_score = combined_data_df[\"math_score\"].mean()\n",
    "average_reading_score = combined_data_df[\"reading_score\"].mean()\n",
    "passing_math_score = combined_data_df.loc[combined_data_df[\"math_score\"]>=70].count()/total_students\n",
    "passing_reading_score = combined_data_df.loc[combined_data_df[\"reading_score\"]>=70].count()/total_students\n",
    "passing_overall = (passing_math_score + passing_reading_score)/2"
   ]
  },
  {
   "cell_type": "code",
   "execution_count": null,
   "metadata": {},
   "outputs": [],
   "source": []
  },
  {
   "cell_type": "code",
   "execution_count": null,
   "metadata": {},
   "outputs": [],
   "source": []
  }
 ],
 "metadata": {
  "kernelspec": {
   "display_name": "Python 3",
   "language": "python",
   "name": "python3"
  },
  "language_info": {
   "codemirror_mode": {
    "name": "ipython",
    "version": 3
   },
   "file_extension": ".py",
   "mimetype": "text/x-python",
   "name": "python",
   "nbconvert_exporter": "python",
   "pygments_lexer": "ipython3",
   "version": "3.8.5"
  }
 },
 "nbformat": 4,
 "nbformat_minor": 4
}
