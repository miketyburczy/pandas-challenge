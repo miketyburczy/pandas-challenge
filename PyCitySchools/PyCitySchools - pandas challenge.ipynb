{
 "cells": [
  {
   "cell_type": "code",
   "execution_count": 6,
   "metadata": {},
   "outputs": [],
   "source": [
    "#import pandas library\n",
    "import pandas as pd\n",
    "\n",
    "#Load CSV files\n",
    "schools_data_file = \"Resources/schools_complete.csv\"\n",
    "students_data_file = \"Resources/students_complete.csv\"\n",
    "\n",
    "#Read CSV files\n",
    "schools_data = pd.read_csv(schools_data_file)\n",
    "students_data = pd.read_csv(students_data_file)\n",
    "\n",
    "#Merge into single dataset\n",
    "combined_data_df = pd.merge(students_data, schools_data, how=\"left\", on=[\"school_name\", \"school_name\"])\n"
   ]
  },
  {
   "cell_type": "code",
   "execution_count": null,
   "metadata": {},
   "outputs": [],
   "source": []
  }
 ],
 "metadata": {
  "kernelspec": {
   "display_name": "Python 3",
   "language": "python",
   "name": "python3"
  },
  "language_info": {
   "codemirror_mode": {
    "name": "ipython",
    "version": 3
   },
   "file_extension": ".py",
   "mimetype": "text/x-python",
   "name": "python",
   "nbconvert_exporter": "python",
   "pygments_lexer": "ipython3",
   "version": "3.8.5"
  }
 },
 "nbformat": 4,
 "nbformat_minor": 4
}
