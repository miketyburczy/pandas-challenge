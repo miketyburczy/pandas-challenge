{
 "cells": [
  {
   "cell_type": "code",
   "execution_count": 1,
   "metadata": {},
   "outputs": [],
   "source": [
    "#import pandas library\n",
    "import pandas as pd\n",
    "\n",
    "#Load CSV files\n",
    "schools_data_file = \"Resources/schools_complete.csv\"\n",
    "students_data_file = \"Resources/students_complete.csv\"\n",
    "\n",
    "#Read CSV files\n",
    "schools_data = pd.read_csv(schools_data_file)\n",
    "students_data = pd.read_csv(students_data_file)\n",
    "\n",
    "#Merge into single dataset\n",
    "combined_data_df = pd.merge(students_data, schools_data, how=\"left\", on=[\"school_name\", \"school_name\"])\n"
   ]
  },
  {
   "cell_type": "code",
   "execution_count": 2,
   "metadata": {},
   "outputs": [],
   "source": [
    "#Calculate the total number of schools\n",
    "total_schools = len(combined_data_df[\"school_name\"].value_counts())\n",
    "\n",
    "#Calculate the total number of students\n",
    "total_students = (combined_data_df[\"student_name\"].count())\n",
    "\n",
    "#Calculate the total budget\n",
    "total_budget = sum(combined_data_df[\"budget\"].unique())\n",
    "\n",
    "#Calculate the average math score\n",
    "average_math_score = combined_data_df[\"math_score\"].mean()\n",
    "\n",
    "#Calculate the average reading score\n",
    "average_reading_score = combined_data_df[\"reading_score\"].mean()\n",
    "\n",
    "#Calculate the percentage of students with a passing math score (70 or greater)\n",
    "passing_math_score = (combined_data_df[combined_data_df[\"math_score\"]>=70][\"student_name\"].count()/total_students)*100\n",
    "\n",
    "#Calculate the percentage of students with a passing reading score (70 or greater)\n",
    "passing_reading_score = (combined_data_df[combined_data_df[\"reading_score\"]>=70][\"student_name\"].count()/total_students)*100\n",
    "\n",
    "#Calculate the percentage of students who passed math and reading (% Overall Passing)\n",
    "students_passing_both = combined_data_df[(combined_data_df[\"math_score\"] >= 70) & (combined_data_df[\"reading_score\"] >= 70)]\n",
    "students_passing_both_count = students_passing_both[\"student_name\"].count()\n",
    "overall_passing = (students_passing_both_count/total_students)*100"
   ]
  },
  {
   "cell_type": "code",
   "execution_count": 3,
   "metadata": {},
   "outputs": [
    {
     "data": {
      "text/html": [
       "<div>\n",
       "<style scoped>\n",
       "    .dataframe tbody tr th:only-of-type {\n",
       "        vertical-align: middle;\n",
       "    }\n",
       "\n",
       "    .dataframe tbody tr th {\n",
       "        vertical-align: top;\n",
       "    }\n",
       "\n",
       "    .dataframe thead th {\n",
       "        text-align: right;\n",
       "    }\n",
       "</style>\n",
       "<table border=\"1\" class=\"dataframe\">\n",
       "  <thead>\n",
       "    <tr style=\"text-align: right;\">\n",
       "      <th></th>\n",
       "      <th>Total Schools</th>\n",
       "      <th>Total Students</th>\n",
       "      <th>Total Budget</th>\n",
       "      <th>Average Math Score</th>\n",
       "      <th>Average Reading Score</th>\n",
       "      <th>% Passing Math</th>\n",
       "      <th>% Passing Reading</th>\n",
       "      <th>% Passing Overall</th>\n",
       "    </tr>\n",
       "  </thead>\n",
       "  <tbody>\n",
       "    <tr>\n",
       "      <th>0</th>\n",
       "      <td>15</td>\n",
       "      <td>39170</td>\n",
       "      <td>24649428</td>\n",
       "      <td>78.985371</td>\n",
       "      <td>81.87784</td>\n",
       "      <td>74.980853</td>\n",
       "      <td>85.805463</td>\n",
       "      <td>65.172326</td>\n",
       "    </tr>\n",
       "  </tbody>\n",
       "</table>\n",
       "</div>"
      ],
      "text/plain": [
       "   Total Schools  Total Students  Total Budget  Average Math Score  \\\n",
       "0             15           39170      24649428           78.985371   \n",
       "\n",
       "   Average Reading Score  % Passing Math  % Passing Reading  % Passing Overall  \n",
       "0               81.87784       74.980853          85.805463          65.172326  "
      ]
     },
     "execution_count": 3,
     "metadata": {},
     "output_type": "execute_result"
    }
   ],
   "source": [
    "#Create the district snapshot (in table form)\n",
    "district_summary = pd.DataFrame ({\"Total Schools\": [total_schools], \"Total Students\": [total_students], \"Total Budget\": [total_budget], \"Average Math Score\": [average_math_score], \"Average Reading Score\": [average_reading_score], \"% Passing Math\": [passing_math_score], \"% Passing Reading\": [passing_reading_score], \"% Passing Overall\": [overall_passing]})\n",
    "district_summary"
   ]
  },
  {
   "cell_type": "code",
   "execution_count": 7,
   "metadata": {},
   "outputs": [
    {
     "data": {
      "text/plain": [
       "Bailey High School       81.933280\n",
       "Cabrera High School      97.039828\n",
       "Figueroa High School     80.739234\n",
       "Ford High School         79.299014\n",
       "Griffin High School      97.138965\n",
       "Hernandez High School    80.862999\n",
       "Holden High School       96.252927\n",
       "Huang High School        81.316421\n",
       "Johnson High School      81.222432\n",
       "Pena High School         95.945946\n",
       "Rodriguez High School    80.220055\n",
       "Shelton High School      95.854628\n",
       "Thomas High School       97.308869\n",
       "Wilson High School       96.539641\n",
       "Wright High School       96.611111\n",
       "dtype: float64"
      ]
     },
     "execution_count": 7,
     "metadata": {},
     "output_type": "execute_result"
    }
   ],
   "source": [
    "#Pull School Type\n",
    "school_types = combined_data_df.set_index([\"school_name\"])[\"type\"]\n",
    "#Pull Student Count\n",
    "total_students = combined_data_df.set_index([\"school_name\"])[\"size\"]\n",
    "total_students = combined_data_df[\"school_name\"].value_counts()\n",
    "#Pull School Budget\n",
    "school_budget = combined_data_df.set_index([\"school_name\"])[\"budget\"]\n",
    "#Budget per student\n",
    "budget_per_student = school_budget/total_students\n",
    "#Calculate Average Math Scores\n",
    "school_math_scores = combined_data_df.set_index([\"school_name\"])[\"math_score\"]\n",
    "count_school_scores = school_math_scores.groupby([\"school_name\"]).count()\n",
    "average_math_scores = combined_data_df.groupby([\"school_name\"]).mean()[\"math_score\"]\n",
    "#Calculate Average Reading Scores\n",
    "average_reading_scores = combined_data_df.groupby([\"school_name\"]).mean()[\"reading_score\"]\n",
    "#Calculate the Percent Passing Math \n",
    "percent_passing_math = combined_data_df[(combined_data_df[\"math_score\"]>=70)]\n",
    "students_passing_math = percent_passing_math.groupby([\"school_name\"]).count()[\"student_name\"]\n",
    "percent_students_passing_math = (students_passing_math/total_students)*100\n",
    "percent_students_passing_math\n",
    "#Calculate the Percent Passing Math \n",
    "percent_passing_reading = combined_data_df[(combined_data_df[\"reading_score\"]>=70)]\n",
    "students_passing_reading = percent_passing_reading.groupby([\"school_name\"]).count()[\"student_name\"]\n",
    "percent_students_passing_reading = (students_passing_reading/total_students)*100\n",
    "percent_students_passing_reading"
   ]
  },
  {
   "cell_type": "code",
   "execution_count": null,
   "metadata": {},
   "outputs": [],
   "source": []
  }
 ],
 "metadata": {
  "kernelspec": {
   "display_name": "Python 3",
   "language": "python",
   "name": "python3"
  },
  "language_info": {
   "codemirror_mode": {
    "name": "ipython",
    "version": 3
   },
   "file_extension": ".py",
   "mimetype": "text/x-python",
   "name": "python",
   "nbconvert_exporter": "python",
   "pygments_lexer": "ipython3",
   "version": "3.8.5"
  }
 },
 "nbformat": 4,
 "nbformat_minor": 4
}
